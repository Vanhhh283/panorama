{
 "cells": [
  {
   "cell_type": "code",
   "execution_count": 1,
   "metadata": {},
   "outputs": [],
   "source": [
    "import cv2\n",
    "import os\n",
    "import copy\n",
    "import numpy as np\n",
    "\n",
    "from ultis import *\n"
   ]
  },
  {
   "cell_type": "code",
   "execution_count": 2,
   "metadata": {},
   "outputs": [],
   "source": [
    "#Đọc khung hình gốc của ảnh pano\n",
    "origin_path = \"D:/Xu ly anh/thucnghiem/v44\"\n",
    "origin_files = os.listdir(origin_path)\n",
    "origin_files.sort()\n",
    "origin_img = [cv2.imread(os.path.join(origin_path, img_file)) for img_file in origin_files]\n",
    "#Đọc khung hình của video cần tracking\n",
    "folder_path = \"D:/Xu ly anh/thucnghiem/v47\"\n",
    "image_files = os.listdir(folder_path)\n",
    "image_files.sort()\n",
    "images = [cv2.imread(os.path.join(folder_path, img_file)) for img_file in image_files]\n",
    "#Tạo đường dẫn lưu kết quả output\n",
    "output_folder = \"D:/Xu ly anh/thucnghiem/v44_compare_test\"\n",
    "if not os.path.exists(output_folder):\n",
    "    os.makedirs(output_folder)"
   ]
  },
  {
   "cell_type": "code",
   "execution_count": 3,
   "metadata": {},
   "outputs": [],
   "source": [
    "def compare(A, B, compare_method=\"akaze\", output_csv=\"tracking_output.csv\"):\n",
    "    \"\"\"\n",
    "    A: danh sách các khung (array) của ảnh pano gốc\n",
    "    B: danh sách các khung (array) của video cần tracking\n",
    "    compare_method: thuật toán sử dụng để so sánh (akaze, sift, orb)\n",
    "    output_csv: đường dẫn xuất ra file CSV chứa thông tin so sánh về các khung\n",
    "    \"\"\"\n",
    "    with open(output_csv, mode='w', newline='') as file:\n",
    "        writer = csv.writer(file)\n",
    "        writer.writerow([\"Frame_B\", \"Match_1\", \"Match_2\", \"Match_3\"])\n",
    "\n",
    "        for i in range(len(B)):\n",
    "            scores = []\n",
    "            img1 = cv2.cvtColor(B[i], cv2.COLOR_BGR2GRAY)\n",
    "\n",
    "            for j in range(len(A)):\n",
    "                img2 = cv2.cvtColor(A[j], cv2.COLOR_BGR2GRAY)\n",
    "                \n",
    "                if compare_method == \"akaze\":\n",
    "                    similarity_percentage = calculate_similarity_percentage_akaze(img1, img2)\n",
    "                elif compare_method == \"sift\":\n",
    "                    similarity_percentage = calculate_similarity_percentage_sift(img1, img2)\n",
    "                elif compare_method == \"orb\":\n",
    "                    similarity_percentage = calculate_similarity_percentage_orb(img1, img2)\n",
    "                else:\n",
    "                    print(\"Không tìm được phương thức tính toán tương ứng\")\n",
    "                    return\n",
    "                \n",
    "                scores.append(similarity_percentage)\n",
    "\n",
    "            sorted_indices = sorted(enumerate(scores), key=lambda x: x[1], reverse=True)\n",
    "            top_3_indices = [index for index, _ in sorted_indices[:3]]\n",
    "            writer.writerow([i] + top_3_indices)\n",
    "        print(\"Compare list saved to \" + output_csv)\n",
    "\n",
    "        "
   ]
  },
  {
   "cell_type": "code",
   "execution_count": 4,
   "metadata": {},
   "outputs": [],
   "source": [
    "method = \"orb\"\n",
    "output_csv=\"tracking_output.csv\"\n",
    "A = origin_img\n",
    "B = images\n"
   ]
  },
  {
   "cell_type": "code",
   "execution_count": 5,
   "metadata": {},
   "outputs": [
    {
     "name": "stdout",
     "output_type": "stream",
     "text": [
      "Compare list saved to tracking_output.csv\n"
     ]
    }
   ],
   "source": [
    "compare(A,B[:10],compare_method = method, output_csv = output_csv)"
   ]
  },
  {
   "cell_type": "code",
   "execution_count": 12,
   "metadata": {},
   "outputs": [
    {
     "name": "stdout",
     "output_type": "stream",
     "text": [
      "(3082, 5851)\n"
     ]
    }
   ],
   "source": [
    "#Đọc ma trận H\n",
    "csv_file = \"D:/Xu ly anh/thucnghiem/homographies_DJI_0044_sift.csv\"\n",
    "H = read_homographies_from_csv(csv_file)\n",
    "#Tính toán kết quả đầu ra\n",
    "output_width, output_height, min_x, min_y = calculate_output_size(A, H)\n",
    "output_shape = (output_width, output_height)\n",
    "result_origin = cv2.imread(\"D:/Xu ly anh/thucnghiem/result_DJI_0044_sift.jpg\")\n",
    "print(output_shape)"
   ]
  },
  {
   "cell_type": "code",
   "execution_count": 13,
   "metadata": {},
   "outputs": [],
   "source": [
    "#Đọc file CSV\n",
    "compare = []\n",
    "with open(output_csv, mode='r') as file:\n",
    "    reader = csv.DictReader(file)\n",
    "    for row in reader:\n",
    "        compare.append([int(row['Match_1']), int(row['Match_2']), int(row['Match_3'])])\n"
   ]
  },
  {
   "cell_type": "code",
   "execution_count": 14,
   "metadata": {},
   "outputs": [],
   "source": [
    "#Gắn màu cho 3 khung ảnh\n",
    "compare_color = []\n",
    "for i in range(len(compare)):\n",
    "    top_3_values = compare[i]\n",
    "    colors = [(255, 0, 0), (0, 255, 0), (0, 0, 255)]\n",
    "    top_3_values = [(item, colors[i]) for i, item in enumerate(top_3_values)]\n",
    "    compare_color.append(top_3_values)"
   ]
  },
  {
   "cell_type": "code",
   "execution_count": 15,
   "metadata": {},
   "outputs": [],
   "source": [
    "#Xuất ra kết quả dưới dạng hình ảnh\n",
    "for index, position in enumerate(compare_color):\n",
    "    result = copy.deepcopy(result_origin)\n",
    "    for pos, color in position:\n",
    "        img = A[pos]\n",
    "        img = draw_outer_bounding_box(img, color=color)\n",
    "        warped_image = warp_image_to_zero(img, H, pos, output_shape, min_x, min_y)\n",
    "        result = np.maximum(result, warped_image)\n",
    "\n",
    "        frame_path = os.path.join(output_folder, f\"frame_{index:04d}_compare.jpg\")\n",
    "        result_compare = concatenate_and_label_images(result, B[index], \"result_compare\", f\"frame_{index:04d}.jpg\")\n",
    "        cv2.imwrite(frame_path, result_compare)\n"
   ]
  },
  {
   "cell_type": "code",
   "execution_count": 16,
   "metadata": {},
   "outputs": [],
   "source": [
    "#Xuất video\n",
    "folder_path = output_folder\n",
    "output_path = \"compare_video46_test.mp4\"\n",
    "frame_duration = 0.2  #thời gian xuất hiện 1 ảnh\n",
    "\n",
    "create_video_from_frames(folder_path, output_path, frame_duration)"
   ]
  }
 ],
 "metadata": {
  "kernelspec": {
   "display_name": "base",
   "language": "python",
   "name": "python3"
  },
  "language_info": {
   "codemirror_mode": {
    "name": "ipython",
    "version": 3
   },
   "file_extension": ".py",
   "mimetype": "text/x-python",
   "name": "python",
   "nbconvert_exporter": "python",
   "pygments_lexer": "ipython3",
   "version": "3.12.4"
  }
 },
 "nbformat": 4,
 "nbformat_minor": 2
}
