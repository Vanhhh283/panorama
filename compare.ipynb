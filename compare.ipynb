{
 "cells": [
  {
   "cell_type": "code",
   "execution_count": 1,
   "metadata": {},
   "outputs": [],
   "source": [
    "import cv2\n",
    "import os\n",
    "import copy\n",
    "import numpy as np\n",
    "\n",
    "from ultis import *\n"
   ]
  },
  {
   "cell_type": "code",
   "execution_count": 3,
   "metadata": {},
   "outputs": [],
   "source": [
    "#Đọc khung hình gốc của ảnh pano\n",
    "compare_path = \"D:/Xu ly anh/thucnghiem/v47\"\n",
    "compare_files = os.listdir(compare_path)\n",
    "compare_files.sort()\n",
    "compare_img = [cv2.imread(os.path.join(compare_path, img_file)) for img_file in compare_files]\n",
    "#Đọc khung hình của video cần tracking\n",
    "folder_path = \"D:/Xu ly anh/thucnghiem/v44\"\n",
    "image_files = os.listdir(folder_path)\n",
    "image_files.sort()\n",
    "images = [cv2.imread(os.path.join(folder_path, img_file)) for img_file in image_files]\n",
    "#Tạo kết quả output\n",
    "output_folder = \"D:/Xu ly anh/thucnghiem/v44_compare_akaze\"\n",
    "if not os.path.exists(output_folder):\n",
    "    os.makedirs(output_folder)"
   ]
  },
  {
   "cell_type": "code",
   "execution_count": 4,
   "metadata": {},
   "outputs": [],
   "source": [
    "#Đọc ma trận H\n",
    "csv_file = \"D:/Xu ly anh/thucnghiem/homographies_DJI_0044_sift.csv\"\n",
    "H = read_homographies_from_csv(csv_file)\n",
    "#Tính toán kết quả đầu ra\n",
    "output_width, output_height, min_x, min_y = calculate_output_size(images, H)\n",
    "output_shape = (output_width, output_height)\n",
    "result_origin = cv2.imread(\"D:/Xu ly anh/thucnghiem/result_DJI_0044_sift.jpg\")\n",
    "count = 0"
   ]
  },
  {
   "cell_type": "code",
   "execution_count": 5,
   "metadata": {},
   "outputs": [],
   "source": [
    "\"\"\"\n",
    "Duyệt qua từng ảnh và vẽ bbox lên ảnh pano\n",
    "Dùng akaze để so sánh calculate_similarity_percentage_akaze\n",
    "Dùng orb để so sánh: calculate_similarity_percentage_orb\n",
    "Dùng sift để so sánh: calculate_similarity_percentage_sift\n",
    "\"\"\"\n",
    "for index,img_origin in enumerate(compare_img):\n",
    "    img1 = cv2.cvtColor(img_origin, cv2.COLOR_BGR2GRAY)\n",
    "    scores = []\n",
    "    for i, img_file in enumerate(images):\n",
    "        img2 = cv2.cvtColor(img_file, cv2.COLOR_BGR2GRAY)\n",
    "        similarity_percentage = calculate_similarity_percentage_akaze(img1,img2)\n",
    "        scores.append(similarity_percentage)\n",
    "\n",
    "    sorted_indices = sorted(enumerate(scores), key=lambda x: x[1], reverse=True)\n",
    "\n",
    "    top_3_values = sorted_indices[:3]\n",
    "    colors = [(255, 0, 0), (0, 255, 0), (0, 0, 255)]\n",
    "    top_3_values = [(item[0], item[1], colors[i]) for i, item in enumerate(top_3_values)]\n",
    "    result = copy.deepcopy(result_origin)\n",
    "    for index, position, color in top_3_values:\n",
    "        img = images[index]\n",
    "        img = draw_outer_bounding_box(img,color=color)\n",
    "        warped_image = warp_image_to_zero(img, H, index, output_shape, min_x, min_y)\n",
    "        result = np.maximum(result, warped_image)\n",
    "\n",
    "    frame_path = os.path.join(output_folder, f\"frame_{count:04d}_compare.jpg\")\n",
    "    result = concatenate_and_label_images(result,img_origin,\"result_compare\",f\"frame_{count:04d}.jpg\")\n",
    "    cv2.imwrite(frame_path, result)\n",
    "    count += 1\n"
   ]
  }
 ],
 "metadata": {
  "kernelspec": {
   "display_name": "base",
   "language": "python",
   "name": "python3"
  },
  "language_info": {
   "codemirror_mode": {
    "name": "ipython",
    "version": 3
   },
   "file_extension": ".py",
   "mimetype": "text/x-python",
   "name": "python",
   "nbconvert_exporter": "python",
   "pygments_lexer": "ipython3",
   "version": "3.12.4"
  }
 },
 "nbformat": 4,
 "nbformat_minor": 2
}
