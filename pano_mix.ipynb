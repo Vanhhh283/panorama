{
 "cells": [
  {
   "cell_type": "code",
   "execution_count": 2,
   "metadata": {},
   "outputs": [],
   "source": [
    "import cv2\n",
    "import numpy as np\n",
    "import os\n",
    "import csv \n",
    "\n",
    "from utils import *"
   ]
  },
  {
   "cell_type": "code",
   "execution_count": null,
   "metadata": {},
   "outputs": [],
   "source": [
    "\"Bước 1: Lấy mẫu video, frame_distance là tham số khoảng cách giữa 2 lần lấy mẫu liên tiếp\"\n",
    "\n",
    "video_path_1 = \"DJI_0044.mp4\"\n",
    "video_path_2 = \"DJI_0046.mp4\"\n",
    "frame_distance = 24\n",
    "output_folder_1 = \"v44\"\n",
    "output_folder_2 = \"v46\"\n",
    "extract_frames(video_path_1, frame_distance, output_folder_1, resize=0.5)\n",
    "extract_frames(video_path_2, frame_distance, output_folder_2, resize=0.5)"
   ]
  },
  {
   "cell_type": "code",
   "execution_count": 6,
   "metadata": {},
   "outputs": [
    {
     "name": "stdout",
     "output_type": "stream",
     "text": [
      "Homographies have been saved to homographies_mix_akaze.csv\n"
     ]
    }
   ],
   "source": [
    "\"\"\"\n",
    "Bước 2: Từ các khung hình đã lấy mẫu từ trước, tính toán ma trận H giữa 2 khung liên tiếp\n",
    "Sử dụng thuật toán akaze dùng hàm \"findH_akaze\"\n",
    "Sử dụng thuật toán sift dùng hàm \"findH_sift\"\n",
    "Sử dụng thuật toán orb dùng hàm \"findH_orb\"\n",
    "\"\"\"\n",
    "\n",
    "folder_path_A = \"v44\"\n",
    "image_files_A = os.listdir(folder_path_A)\n",
    "image_files_A.sort()\n",
    "image_A = [cv2.imread(os.path.join(folder_path_A,img)) for img in image_files_A]\n",
    "\n",
    "folder_path_B = \"v46\"\n",
    "image_files_B = os.listdir(folder_path_B)\n",
    "image_files_B.sort()\n",
    "image_B = [cv2.imread(os.path.join(folder_path_B,img)) for img in image_files_B]\n",
    "\n",
    "image_mix = image_A + image_B\n",
    "image_0 = image_mix [0]\n",
    "H = []\n",
    "\n",
    "for i, image in enumerate(image_mix[1:], 1):\n",
    "    next_image = image\n",
    "    homo = findH_akaze(image_0, image)\n",
    "    image_0 = next_image\n",
    "    H.append(homo)\n",
    "\n",
    "csv_file = \"homographies_mix_akaze.csv\"\n",
    "with open(csv_file, mode='w', newline='') as file:\n",
    "    writer = csv.writer(file)\n",
    "    for i, homo in enumerate(H):\n",
    "        writer.writerow([f\"H_{i}\"])\n",
    "        for row in homo:\n",
    "            writer.writerow(row)\n",
    "    print(f\"Homographies have been saved to {csv_file}\")"
   ]
  },
  {
   "cell_type": "code",
   "execution_count": 7,
   "metadata": {},
   "outputs": [
    {
     "name": "stdout",
     "output_type": "stream",
     "text": [
      "(6372, 6491) -4936.995 -4520.843\n"
     ]
    }
   ],
   "source": [
    "\"\"\"\n",
    "Đọc ma trận H từ file đã lưu\n",
    "Tính toán kích thước ảnh đầu ra\n",
    "Bắt đầu ghép ảnh và xuất file\n",
    "\"\"\"\n",
    "output_width, output_height, min_x, min_y = calculate_output_size(image_mix, H)\n",
    "output_shape = (output_width, output_height)\n",
    "print(output_shape,min_x,min_y)\n",
    "\n",
    "result = np.zeros((output_shape[1], output_shape[0], 3), dtype=np.uint8)\n",
    "\n",
    "for i, image in enumerate(image_mix):\n",
    "    warped_image = warp_image_to_zero(image, H, i, output_shape, min_x, min_y)\n",
    "    result = np.maximum(result, warped_image)\n",
    "    cv2.imwrite(\"mix.jpg\", result)"
   ]
  }
 ],
 "metadata": {
  "kernelspec": {
   "display_name": "base",
   "language": "python",
   "name": "python3"
  },
  "language_info": {
   "codemirror_mode": {
    "name": "ipython",
    "version": 3
   },
   "file_extension": ".py",
   "mimetype": "text/x-python",
   "name": "python",
   "nbconvert_exporter": "python",
   "pygments_lexer": "ipython3",
   "version": "3.12.4"
  }
 },
 "nbformat": 4,
 "nbformat_minor": 2
}
