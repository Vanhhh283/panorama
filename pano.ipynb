{
 "cells": [
  {
   "cell_type": "code",
   "execution_count": 2,
   "metadata": {},
   "outputs": [],
   "source": [
    "import cv2\n",
    "import numpy as np\n",
    "import os\n",
    "import csv \n",
    "\n",
    "from utils import *"
   ]
  },
  {
   "cell_type": "code",
   "execution_count": null,
   "metadata": {},
   "outputs": [],
   "source": [
    "\"Bước 1: Lấy mẫu video, frame_distance là tham số khoảng cách giữa 2 lần lấy mẫu liên tiếp\"\n",
    "\n",
    "video_path = \"DJI_0044.mp4\"\n",
    "frame_distance = 24\n",
    "output_folder = \"v44_24\"\n",
    "extracted_frames = extract_frames(video_path, frame_distance, output_folder)"
   ]
  },
  {
   "cell_type": "code",
   "execution_count": 3,
   "metadata": {},
   "outputs": [
    {
     "name": "stdout",
     "output_type": "stream",
     "text": [
      "Homographies have been saved to D:/Xu ly anh/thucnghiem/homographies_v44_384_akaze.csv\n"
     ]
    }
   ],
   "source": [
    "\"\"\"\n",
    "Bước 2: Từ các khung hình đã lấy mẫu từ trước, tính toán ma trận H giữa 2 khung liên tiếp\n",
    "Sử dụng thuật toán akaze dùng hàm \"findH_akaze\"\n",
    "Sử dụng thuật toán sift dùng hàm \"findH_sift\"\n",
    "Sử dụng thuật toán orb dùng hàm \"findH_orb\"\n",
    "\"\"\"\n",
    "\n",
    "folder_path = \"v44_384\"\n",
    "image_files = os.listdir(folder_path)\n",
    "image_files.sort()\n",
    "image_0 = cv2.imread(os.path.join(folder_path, image_files[0]))\n",
    "H = []\n",
    "\n",
    "for i, img_file in enumerate(image_files[1:], 1):\n",
    "    next_image = cv2.imread(os.path.join(folder_path, img_file))\n",
    "    homo = findH_akaze(image_0, next_image)\n",
    "    H.append(homo)\n",
    "    image_0 = next_image\n",
    "\n",
    "csv_file = \"homographies_v44_384_akaze.csv\"\n",
    "with open(csv_file, mode='w', newline='') as file:\n",
    "    writer = csv.writer(file)\n",
    "    for i, homo in enumerate(H):\n",
    "        writer.writerow([f\"H_{i}\"])\n",
    "        for row in homo:\n",
    "            writer.writerow(row)\n",
    "    print(f\"Homographies have been saved to {csv_file}\")"
   ]
  },
  {
   "cell_type": "code",
   "execution_count": 15,
   "metadata": {},
   "outputs": [
    {
     "name": "stdout",
     "output_type": "stream",
     "text": [
      "(4820, 11084) -3406.9653 -4901.0654\n"
     ]
    }
   ],
   "source": [
    "\"\"\"\n",
    "Đọc ma trận H từ file đã lưu\n",
    "Tính toán kích thước ảnh đầu ra\n",
    "Bắt đầu ghép ảnh và xuất file\n",
    "\"\"\"\n",
    "\n",
    "\n",
    "csv_file = \"D:/Xu ly anh/thucnghiem/homographies_v44_384_akaze.csv\"\n",
    "H = read_homographies_from_csv(csv_file)\n",
    "\n",
    "folder_path = \"D:/Xu ly anh/thucnghiem/v44_384\"\n",
    "image_files = os.listdir(folder_path)\n",
    "image_files.sort()\n",
    "images = [cv2.imread(os.path.join(folder_path, img_file)) for img_file in image_files]\n",
    "\n",
    "output_width, output_height, min_x, min_y = calculate_output_size(images, H)\n",
    "output_shape = (output_width, output_height)\n",
    "print(output_shape,min_x,min_y)\n",
    "\n",
    "result = np.zeros((output_shape[1], output_shape[0], 3), dtype=np.uint8)\n",
    "\n",
    "for i, image in enumerate(images):\n",
    "    warped_image = warp_image_to_zero(image, H, i, output_shape, min_x, min_y)\n",
    "    result = np.maximum(result, warped_image)\n",
    "    cv2.imwrite(\"v44_384.jpg\", result)"
   ]
  }
 ],
 "metadata": {
  "kernelspec": {
   "display_name": "base",
   "language": "python",
   "name": "python3"
  },
  "language_info": {
   "codemirror_mode": {
    "name": "ipython",
    "version": 3
   },
   "file_extension": ".py",
   "mimetype": "text/x-python",
   "name": "python",
   "nbconvert_exporter": "python",
   "pygments_lexer": "ipython3",
   "version": "3.12.4"
  }
 },
 "nbformat": 4,
 "nbformat_minor": 2
}
